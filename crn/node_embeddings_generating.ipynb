{
 "cells": [
  {
   "cell_type": "code",
   "execution_count": 2,
   "metadata": {},
   "outputs": [],
   "source": [
    "import sys\n",
    "#sys.path.append('../')\n",
    "\n",
    "import networkx as nx\n",
    "from node2vec import Node2Vec\n",
    "\n",
    "%load_ext autoreload\n",
    "%autoreload 2"
   ]
  },
  {
   "cell_type": "code",
   "execution_count": 3,
   "metadata": {},
   "outputs": [
    {
     "data": {
      "text/plain": [
       "(307, 340)"
      ]
     },
     "execution_count": 3,
     "metadata": {},
     "output_type": "execute_result"
    }
   ],
   "source": [
    "G = nx.read_gpickle('data/PEMSD4/PEMSD4_network.p')\n",
    "G.number_of_nodes(), G.number_of_edges()"
   ]
  },
  {
   "cell_type": "code",
   "execution_count": 4,
   "metadata": {},
   "outputs": [],
   "source": [
    "def generate_node_embeddings(graph: nx.Graph):\n",
    "    model = Node2Vec(graph, dimensions=32, num_walks=100, walk_length=80, weight_key='dist', workers=2)\n",
    "    result = model.fit(window=5, min_count=1)\n",
    "    return result"
   ]
  },
  {
   "cell_type": "code",
   "execution_count": 5,
   "metadata": {},
   "outputs": [
    {
     "data": {
      "application/vnd.jupyter.widget-view+json": {
       "model_id": "a7163621739148818122c0aa6d507fc3",
       "version_major": 2,
       "version_minor": 0
      },
      "text/plain": [
       "Computing transition probabilities:   0%|          | 0/307 [00:00<?, ?it/s]"
      ]
     },
     "metadata": {},
     "output_type": "display_data"
    },
    {
     "name": "stderr",
     "output_type": "stream",
     "text": [
      "Generating walks (CPU: 1): 100%|██████████| 50/50 [00:00<00:00, 84.34it/s]\n",
      "Generating walks (CPU: 2): 100%|██████████| 50/50 [00:00<00:00, 85.26it/s]\n"
     ]
    },
    {
     "name": "stdout",
     "output_type": "stream",
     "text": [
      "CPU times: user 3.54 s, sys: 80.1 ms, total: 3.62 s\n",
      "Wall time: 3.75 s\n"
     ]
    }
   ],
   "source": [
    "%%time\n",
    "embeddings = generate_node_embeddings(G)"
   ]
  },
  {
   "cell_type": "code",
   "execution_count": 6,
   "metadata": {},
   "outputs": [
    {
     "name": "stdout",
     "output_type": "stream",
     "text": [
      "(73, 5)\n",
      "(5, 154)\n",
      "(154, 263)\n",
      "(263, 56)\n",
      "(56, 96)\n"
     ]
    }
   ],
   "source": [
    "for idx, e in enumerate(G.edges()):\n",
    "    if idx == 5:\n",
    "        break\n",
    "    print(e)"
   ]
  },
  {
   "cell_type": "code",
   "execution_count": 13,
   "metadata": {},
   "outputs": [
    {
     "data": {
      "text/plain": [
       "[('D10-001', 0.9489923715591431),\n",
       " ('D00-002', 0.937639057636261),\n",
       " ('D10-002', 0.9327845573425293),\n",
       " ('D11-001', 0.9014711976051331),\n",
       " ('D00-003', 0.8777959942817688),\n",
       " ('D10-003', 0.8757907748222351),\n",
       " ('D11-002', 0.8348333835601807),\n",
       " ('I12-001', 0.8230857849121094),\n",
       " ('D10-004', 0.8107116222381592),\n",
       " ('D00-004', 0.7719646692276001)]"
      ]
     },
     "execution_count": 13,
     "metadata": {},
     "output_type": "execute_result"
    }
   ],
   "source": [
    "#embeddings.wv.most_similar('D00-001')"
   ]
  },
  {
   "cell_type": "code",
   "execution_count": 14,
   "metadata": {},
   "outputs": [],
   "source": [
    "#embeddings.save('embeddings32.data')"
   ]
  },
  {
   "cell_type": "code",
   "execution_count": 7,
   "metadata": {},
   "outputs": [],
   "source": [
    "# join embeddings with corresponding nodes (as x feature)\n",
    "for idx, node in enumerate(G.nodes()):\n",
    "    G.add_node(node, embedding=embeddings.wv[str(node)].copy())"
   ]
  },
  {
   "cell_type": "code",
   "execution_count": 8,
   "metadata": {},
   "outputs": [],
   "source": [
    "nx.readwrite.write_gpickle(G, 'PEMSD4_network32.gpickle')"
   ]
  },
  {
   "cell_type": "code",
   "execution_count": 1,
   "metadata": {},
   "outputs": [],
   "source": [
    "# import networkx as nx\n",
    "# nx.read_gpickle('data/network32_reweighted.gpickle')"
   ]
  },
  {
   "cell_type": "code",
   "execution_count": 1,
   "metadata": {},
   "outputs": [],
   "source": [
    "import pickle\n",
    "import networkx as nx\n",
    "g = nx.read_gpickle('data/network32_reweighted.gpickle')\n",
    "nx.write_gpickle(g, 'data/network32_reweighted.gpickle', protocol=4)"
   ]
  },
  {
   "cell_type": "code",
   "execution_count": null,
   "metadata": {},
   "outputs": [],
   "source": []
  }
 ],
 "metadata": {
  "kernelspec": {
   "display_name": "py39",
   "language": "python",
   "name": "py39"
  },
  "language_info": {
   "codemirror_mode": {
    "name": "ipython",
    "version": 3
   },
   "file_extension": ".py",
   "mimetype": "text/x-python",
   "name": "python",
   "nbconvert_exporter": "python",
   "pygments_lexer": "ipython3",
   "version": "3.9.7"
  },
  "vscode": {
   "interpreter": {
    "hash": "28303a207dacb9cb319d5b9c7478ccb895826cc63d164e8fadd120556694d778"
   }
  }
 },
 "nbformat": 4,
 "nbformat_minor": 2
}
